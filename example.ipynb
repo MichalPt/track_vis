{
 "cells": [
  {
   "cell_type": "code",
   "execution_count": 1,
   "id": "3f6082b5-3d7b-4cb4-b10c-93f78dd4d8e2",
   "metadata": {},
   "outputs": [],
   "source": [
    "from track_visualizer import converters, tools\n",
    "from track_visualizer.client import MapboxClient\n",
    "from track_visualizer.decoder import Decoder\n",
    "from track_visualizer.maps import MapsHandler\n",
    "from track_visualizer.visualization import Visualizer"
   ]
  },
  {
   "cell_type": "code",
   "execution_count": 3,
   "id": "aa504160-acc6-4b56-b6b9-9c230361af6c",
   "metadata": {
    "scrolled": true
   },
   "outputs": [],
   "source": [
    "decoder = Decoder('C:/Users/micha/Pictures/5RiversClassic_2023/fitfile2.fit')\n",
    "# decoder = Decoder('C:/Users/micha/Pictures/5RiversClassic_2023/2023-05-13.gpx')"
   ]
  },
  {
   "cell_type": "code",
   "execution_count": 4,
   "id": "b550745a-0b93-4ed2-b30f-95591cefa195",
   "metadata": {},
   "outputs": [
    {
     "name": "stdout",
     "output_type": "stream",
     "text": [
      "Map 1: 'outdoor' activated.\n"
     ]
    }
   ],
   "source": [
    "client = MapboxClient('--username--', '--token--')\n",
    "client.add_map('--map_style_id---')\n",
    "client.add_map('--another_map_style_id---', label='outdoor')\n",
    "client.activate_map(1)"
   ]
  },
  {
   "cell_type": "code",
   "execution_count": 5,
   "id": "90d63c40-02ae-46db-b314-8b2e662e0b7a",
   "metadata": {
    "scrolled": true
   },
   "outputs": [],
   "source": [
    "mapper = MapsHandler(client, \"C:/Users/micha/Pictures/\")\n",
    "# mapper.save_9tiles(49, 51, 7)"
   ]
  },
  {
   "cell_type": "code",
   "execution_count": 6,
   "id": "04e5484b-bb48-48a1-92a1-e799d488ee25",
   "metadata": {},
   "outputs": [
    {
     "name": "stderr",
     "output_type": "stream",
     "text": [
      "100%|█████████████████████████████████████████████████████████████████████████████████████| 75/75 [00:04<00:00, 15.29it/s]\n"
     ]
    },
    {
     "name": "stdout",
     "output_type": "stream",
     "text": [
      "Done!\n"
     ]
    }
   ],
   "source": [
    "vis = Visualizer(mapper, decoder, \"C:/Users/micha/Pictures/example_01\")\n",
    "vis.render(17, range=(5,80))"
   ]
  },
  {
   "cell_type": "code",
   "execution_count": null,
   "id": "bd032383-ce66-4aff-9b73-d187579ec754",
   "metadata": {},
   "outputs": [],
   "source": []
  }
 ],
 "metadata": {
  "kernelspec": {
   "display_name": "Python 3 (ipykernel)",
   "language": "python",
   "name": "python3"
  },
  "language_info": {
   "codemirror_mode": {
    "name": "ipython",
    "version": 3
   },
   "file_extension": ".py",
   "mimetype": "text/x-python",
   "name": "python",
   "nbconvert_exporter": "python",
   "pygments_lexer": "ipython3",
   "version": "3.11.3"
  }
 },
 "nbformat": 4,
 "nbformat_minor": 5
}
